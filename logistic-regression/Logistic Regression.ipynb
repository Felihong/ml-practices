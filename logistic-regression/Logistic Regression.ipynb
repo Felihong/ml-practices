{
 "cells": [
  {
   "cell_type": "markdown",
   "metadata": {},
   "source": [
    "Wir benuzten Logische Regression, um den Spam-Datensatz und Non-Spam Datensatz binär zu klassifizieren. "
   ]
  },
  {
   "cell_type": "code",
   "execution_count": 1,
   "metadata": {},
   "outputs": [],
   "source": [
    "import numpy as np\n",
    "import matplotlib.pyplot as plt"
   ]
  },
  {
   "cell_type": "code",
   "execution_count": 2,
   "metadata": {},
   "outputs": [],
   "source": [
    "def file_get_contents(filename):\n",
    "    return np.genfromtxt(filename, delimiter=',')"
   ]
  },
  {
   "cell_type": "markdown",
   "metadata": {},
   "source": [
    "Wir lesen die Daten ein, und teile die in die Trainingdaten(80%) und Testendaten(20%)."
   ]
  },
  {
   "cell_type": "code",
   "execution_count": 5,
   "metadata": {},
   "outputs": [],
   "source": [
    "data_original = file_get_contents('Resourcen/spambase.data')\n",
    "\n",
    "def extract_training(data):\n",
    "    length = int(0.8 * len(data))\n",
    "    return data[:length]\n",
    "\n",
    "def normal_training(data):\n",
    "    data = extract_training(data)\n",
    "    for i in range(len(data)):\n",
    "        data[i] = normalisation(data[i])\n",
    "    return data\n",
    "\n",
    "def extract_test(data):\n",
    "    test = np.copy(data)\n",
    "    np.random.shuffle(test)  # da die Dateien nicht zufällig gemischt sind, mischen wir hier selbst mal\n",
    "    length = int(0.2 * len(test))  \n",
    "    return test[:length]\n",
    "\n",
    "training_original = extract_training(data_original)\n",
    "test_original = extract_test(data_original)"
   ]
  },
  {
   "cell_type": "markdown",
   "metadata": {},
   "source": [
    "Bevor wir anfangen, müssen wir die Daten normalisieren."
   ]
  },
  {
   "cell_type": "code",
   "execution_count": 7,
   "metadata": {},
   "outputs": [],
   "source": [
    "def normalisation(sample):\n",
    "    mean = get_mean(sample)\n",
    "    diff = np.max(sample) - np.min(sample)\n",
    "    for i in range(0, len(sample)):\n",
    "        sample[i] = (sample[i]-mean)/diff\n",
    "    return sample\n",
    "\n",
    "def get_mean(data):\n",
    "    return (np.sum(data))/len(data)"
   ]
  },
  {
   "cell_type": "markdown",
   "metadata": {},
   "source": [
    "Wir brauen eine Aktivierungsfunktion, um alle Eingabewerte in den Interval [0,1] zuzuordnen. Hier wenden wir Sigmoid Funktion an."
   ]
  },
  {
   "cell_type": "code",
   "execution_count": 8,
   "metadata": {},
   "outputs": [],
   "source": [
    "def sigmoid(x):\n",
    "    tmp = 1.0 + np.exp(-x)\n",
    "    result = 1.0 / tmp\n",
    "    return result"
   ]
  },
  {
   "cell_type": "markdown",
   "metadata": {},
   "source": [
    "Um besser die Dateien zu trainieren, wir zerlegen die Samples und Labels."
   ]
  },
  {
   "cell_type": "code",
   "execution_count": 9,
   "metadata": {},
   "outputs": [],
   "source": [
    "def get_samples(training):\n",
    "    training = np.delete(training, -1, axis=1)\n",
    "    return np.matrix(training)\n",
    "\n",
    "\n",
    "def get_labels(training):\n",
    "    tmp = np.matrix(training[:, -1])\n",
    "    return np.transpose(tmp)"
   ]
  },
  {
   "cell_type": "markdown",
   "metadata": {},
   "source": [
    "Wir bilden eine Error Funktion, und minimieren wir die Error Funktion mithilfe von Gradient Descent, das Performance hängt stark von der Wahl der Learning Rate und Iterationsanzahl ab, hier wird ein paar Mal angepasst bis eine relativ kleine Error rate vorkommt."
   ]
  },
  {
   "cell_type": "code",
   "execution_count": 10,
   "metadata": {},
   "outputs": [],
   "source": [
    "def get_weight(training):\n",
    "    data = get_samples(training)\n",
    "    label = get_labels(training)\n",
    "    learnRate = 0.99999\n",
    "    m, n = np.shape(data)   # datamatirx: (m*n)\n",
    "    weight = np.zeros((n, 1))  # initialer Gewicht Vektor, null Vektor oder zufällig konfigurieren\n",
    "\n",
    "    for i in range(0, 5000):\n",
    "        predict = sigmoid(np.dot(data, weight))  # (m*n)*(n*1)=(m*1) Matrix\n",
    "        error = np.subtract(predict, label)      # (m*1)-(m*1)\n",
    "        tmp = np.dot(np.transpose(data), error)  # (n*m)*(m*1)=(n*1) Matrix\n",
    "        '''(n*1) Gewicht Vektor (entspricht zur Sprung Richtung) wird aktualisiert'''\n",
    "        weight = np.subtract(weight, np.dot(learnRate, tmp))\n",
    "        learnRate -= 0.00001 # am Anfang relativ große Learning Rate, und schrittweise reduzieren\n",
    "\n",
    "    return weight"
   ]
  },
  {
   "cell_type": "markdown",
   "metadata": {},
   "source": [
    "Dann können wir schon klassifizieren, vergleichen wir das Ergebnis nach Sigmoid Funktion, ob es größer als 1/2 ist, da es die Wahrscheinlichkeit der Ereignisse entspricht."
   ]
  },
  {
   "cell_type": "code",
   "execution_count": 11,
   "metadata": {},
   "outputs": [],
   "source": [
    "def classify(training, test, weight):\n",
    "    testdata = test[: -1]\n",
    "    prediction = np.dot(np.transpose(weight), testdata)\n",
    "    probability = sigmoid(prediction)\n",
    "    if (probability > 0.5):   # entspricht zur p > 1-p, und p liegt im Interval [0,1]\n",
    "        return 1\n",
    "    else: return 0"
   ]
  },
  {
   "cell_type": "markdown",
   "metadata": {},
   "source": [
    "Schauen wir uns mal die Error Rate an."
   ]
  },
  {
   "cell_type": "code",
   "execution_count": 16,
   "metadata": {},
   "outputs": [
    {
     "name": "stderr",
     "output_type": "stream",
     "text": [
      "/Users/hongzhu/anaconda3/lib/python3.6/site-packages/ipykernel_launcher.py:2: RuntimeWarning: overflow encountered in exp\n",
      "  \n"
     ]
    },
    {
     "name": "stdout",
     "output_type": "stream",
     "text": [
      "error rate ist 35.108695652173914 %\n"
     ]
    }
   ],
   "source": [
    "def error_rate(training, test):\n",
    "    weight = get_weight(training)\n",
    "    error = 0\n",
    "    for i in range(0, len(test)):\n",
    "        lable = test[i][-1]\n",
    "        result = classify(training, test[i], weight)\n",
    "        if (result != lable):\n",
    "            error += 1\n",
    "    return (error/len(test))*100\n",
    "\n",
    "print('error rate ist', error_rate(training_original, test_original), '%')"
   ]
  },
  {
   "cell_type": "markdown",
   "metadata": {},
   "source": [
    "Jetzt visualisieren wir das Ergebnis, um zu schauen was ist da passiert, wir wählen zwei Merkmale zu ploten, statt n-dimensional zu betrachten. Hier werden die Durchschnitt und Maximum gewählt (Grund kein Minimum: sind bei allen Samples das Minimum 0)."
   ]
  },
  {
   "cell_type": "code",
   "execution_count": 19,
   "metadata": {},
   "outputs": [
    {
     "name": "stderr",
     "output_type": "stream",
     "text": [
      "/Users/hongzhu/anaconda3/lib/python3.6/site-packages/ipykernel_launcher.py:2: RuntimeWarning: overflow encountered in exp\n",
      "  \n"
     ]
    },
    {
     "data": {
      "image/png": "[encoded data removed]",
      "text/plain": [
       "<matplotlib.figure.Figure at 0x107fa8d68>"
      ]
     },
     "metadata": {},
     "output_type": "display_data"
    },
    {
     "name": "stdout",
     "output_type": "stream",
     "text": [
      "36.630434782608695\n",
      "None\n"
     ]
    }
   ],
   "source": [
    "def ploting(data, colour):\n",
    "    data = np.matrix(data)\n",
    "    mean = []\n",
    "    max = []\n",
    "\n",
    "    for i in range(len(data)):\n",
    "        mean_i = get_mean(data[i])\n",
    "        max_i = np.max(data[i])\n",
    "        mean.append(mean_i)\n",
    "        max.append(max_i)\n",
    "    mean = np.array(list(np.matrix(mean)))\n",
    "    max = np.array(list(np.matrix(max)))\n",
    "    x = mean[0][0]\n",
    "    y = max[0][0]\n",
    "    plt.scatter(x, y, 0.1, color= colour)\n",
    "    plt.xlim(0, 500)\n",
    "    plt.ylim(0, 500)\n",
    "    \n",
    "def get_class_plot(training, test):\n",
    "    weight = get_weight(training)\n",
    "    spam = []\n",
    "    non_spam = []\n",
    "    for i in range(0, len(test)):\n",
    "        result = classify(training, test[i], weight)\n",
    "        if (result == 1):\n",
    "            spam.append(test[i])\n",
    "        else: non_spam.append(test[i])\n",
    "    ploting(spam, 'r')\n",
    "    ploting(non_spam, 'g')\n",
    "    plt.show()\n",
    "    print(error_rate(training, test))\n",
    "\n",
    "data = list(data_original)\n",
    "training = np.matrix(extract_training(data))\n",
    "test = extract_test(data)\n",
    "\n",
    "print(get_class_plot(training_original, test))"
   ]
  },
  {
   "cell_type": "markdown",
   "metadata": {},
   "source": [
    "Wir bilden jetzt eine Konfusions Matrix ab."
   ]
  },
  {
   "cell_type": "code",
   "execution_count": 20,
   "metadata": {},
   "outputs": [
    {
     "name": "stderr",
     "output_type": "stream",
     "text": [
      "/Users/hongzhu/anaconda3/lib/python3.6/site-packages/ipykernel_launcher.py:2: RuntimeWarning: overflow encountered in exp\n",
      "  \n"
     ]
    },
    {
     "name": "stdout",
     "output_type": "stream",
     "text": [
      "[[345.   0.]\n",
      " [323. 252.]]\n"
     ]
    }
   ],
   "source": [
    "def confusion_matrix(training, test, weight):\n",
    "    matrix = np.zeros((2, 2))\n",
    "\n",
    "    for i in range(0, len(test)):\n",
    "        if (classify(training, test[i], weight) == 1):\n",
    "            if (test[i][57] == 1):\n",
    "                a = matrix[0][0]\n",
    "                a += 1\n",
    "                matrix.itemset((0, 0), a)\n",
    "            else:\n",
    "                a = matrix[1][0]\n",
    "                a += 1\n",
    "                matrix.itemset((1, 0), a)\n",
    "        elif (test[i][57] == 0):\n",
    "            a = matrix[1][1]\n",
    "            a += 1\n",
    "            matrix.itemset((1, 1), a)\n",
    "        else:\n",
    "            a = matrix[1][0]\n",
    "            a += 1\n",
    "            matrix.itemset((1, 0), a)\n",
    "    return matrix\n",
    "\n",
    "weight = get_weight(training_original)\n",
    "\n",
    "print(confusion_matrix(training_original, test_original, weight))"
   ]
  }
 ],
 "metadata": {
  "kernelspec": {
   "display_name": "Python 3",
   "language": "python",
   "name": "python3"
  },
  "language_info": {
   "codemirror_mode": {
    "name": "ipython",
    "version": 3
   },
   "file_extension": ".py",
   "mimetype": "text/x-python",
   "name": "python",
   "nbconvert_exporter": "python",
   "pygments_lexer": "ipython3",
   "version": "3.6.4"
  }
 },
 "nbformat": 4,
 "nbformat_minor": 2
}
