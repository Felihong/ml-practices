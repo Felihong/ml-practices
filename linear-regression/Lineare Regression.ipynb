{
 "cells": [
  {
   "cell_type": "markdown",
   "metadata": {},
   "source": [
    "Die lineare Diskriminantenfunktion: g(x) = w⊤x + w0 (w: Gewichtsvektor, w0: Bias oder Schwellwert) entpricht die Entscheidungsgrenze von zwei Klassen. Die Gleichung g(x) = 0 definiert eine Entscheidungsfläche, die Punkte von ω1 und ω2 trennt, damit haben wir die Entscheidungsregel: entscheide für Klasse ω1 für g(x) > 0, für ω2 für g(x) < 0, keine Entscheidung für g(x) = 0.\n",
    "\n",
    "Unsere Aufgabe ist, die Entscheidungsgrenze (Entscheidungsfläche, Hyperebene) zu finden, welche mit einem entsprechenden Gewichtvektor w und zwei Punkten x1, x2 gilt: w⊤(x1 −x2)=0.\n",
    "\n",
    "Wir bearbeiten jetzt mit dem Ziffer Datensatz \"Digits\", Quelle: https://web.stanford.edu/~hastie/ElemStatLearn/\n",
    "Dann Implementieren wir eine binäre Klassifikator, die zwei Klassen voneinander unterscheiden können mittels linearer Regression. Ein Klassifikator sollte also beispielsweise 3en von 5en unterscheiden können."
   ]
  },
  {
   "cell_type": "code",
   "execution_count": 42,
   "metadata": {},
   "outputs": [],
   "source": [
    "import numpy as np\n",
    "import pandas as pd\n",
    "import matplotlib.pyplot as plt\n",
    "from scipy import linalg\n",
    "from numpy.linalg import inv, LinAlgError, cond\n",
    "import math"
   ]
  },
  {
   "cell_type": "code",
   "execution_count": 43,
   "metadata": {},
   "outputs": [],
   "source": [
    "def file_get_contents(filename):\n",
    "    return np.genfromtxt(filename, delimiter=',')"
   ]
  },
  {
   "cell_type": "markdown",
   "metadata": {},
   "source": [
    "Wir vorbereiten zwei Ziffernmenge, welche die Ziffern 3 und Ziffern 5 darstellt."
   ]
  },
  {
   "cell_type": "code",
   "execution_count": 44,
   "metadata": {},
   "outputs": [],
   "source": [
    "t3 = file_get_contents('train.3')\n",
    "t5 = file_get_contents('train.5')"
   ]
  },
  {
   "cell_type": "markdown",
   "metadata": {},
   "source": [
    "Zur Vereinfachung der Berechnung, fügen wir eine Spalte mit 1'en bei den Trainingdaten hinzu, so dass es keine w0 mit Sampeldata multiplizieren muss, damit wir statt w und w0, nur Gewichtvektor w betrachten müssen."
   ]
  },
  {
   "cell_type": "code",
   "execution_count": 45,
   "metadata": {},
   "outputs": [],
   "source": [
    "def konfiguration(matrix): \n",
    "    length = len(matrix)\n",
    "    column = np.ones((length,1))\n",
    "    return np.concatenate((column,matrix),1)"
   ]
  },
  {
   "cell_type": "markdown",
   "metadata": {},
   "source": [
    "Um eine Inversematrix von Gewichtvektor (Matrix) zu berechnen, müssen wir zuerst garantieren, es überhaupt invertierbar ist."
   ]
  },
  {
   "cell_type": "code",
   "execution_count": 46,
   "metadata": {},
   "outputs": [],
   "source": [
    "def get_it_invertible(matrix):\n",
    "    a = 0.1\n",
    "    id = np.identity(len(matrix))\n",
    "    deter = np.linalg.det(matrix)\n",
    "\n",
    "    while (deter == 0) :  # wenn Determinante gleich 0, gibt's keine Inverse Matrix\n",
    "        matrix = np.add(matrix, np.dot(a, id))  # dann addieren wir mit eine skalarierte Einheitsmatrix\n",
    "        deter = np.linalg.det(matrix)\n",
    "    return matrix"
   ]
  },
  {
   "cell_type": "code",
   "execution_count": 47,
   "metadata": {},
   "outputs": [],
   "source": [
    "def setvector(matrix, length):  # ein Vektor mit wechselseitige -1 und 1, unsere 'y Vektor'\n",
    "    vector = np.array(np.ones((length,1)))\n",
    "    for i in range (0, length):\n",
    "        if (math.fmod(i,2) == 1):\n",
    "            vector[i] = -1\n",
    "    return vector"
   ]
  },
  {
   "cell_type": "markdown",
   "metadata": {},
   "source": [
    "Jetzt berechnen wir den Gewichtvektor, mittels lineare Diskriminante."
   ]
  },
  {
   "cell_type": "code",
   "execution_count": 48,
   "metadata": {},
   "outputs": [],
   "source": [
    "def get_fit(matrix_minus): \n",
    "    matrix = konfiguration(matrix_minus)\n",
    "    transport = np.transpose(matrix)\n",
    "    vektor = np.dot(transport, matrix)\n",
    "\n",
    "    inverse_vektor = np.linalg.inv(get_it_invertible(vektor))\n",
    "    tmp = np.dot(inverse_vektor, transport)\n",
    "    tmp_set = setvector(tmp, len(tmp[1]))\n",
    "    return np.dot(tmp, tmp_set)"
   ]
  },
  {
   "cell_type": "markdown",
   "metadata": {},
   "source": [
    "Damit können wir schon Voraussage geben, welches Bild zu welche Ziffern gehören."
   ]
  },
  {
   "cell_type": "code",
   "execution_count": 49,
   "metadata": {},
   "outputs": [],
   "source": [
    "def prediction(matrix1, matrix2, test):\n",
    "    beta = np.matrix(get_fit(matrix1[0]))\n",
    "    test_vector = np.matrix(np.insert(test,0,0))  # Test Vektor hat eine Stelle weniger wegen Konfiguration\n",
    "\n",
    "    matrix = np.dot(test_vector, beta)\n",
    "    mysum = np.sum(matrix)\n",
    "    if (mysum > 0):  \n",
    "        return matrix2[1]\n",
    "    else:\n",
    "        return matrix1[1]"
   ]
  },
  {
   "cell_type": "code",
   "execution_count": 50,
   "metadata": {},
   "outputs": [],
   "source": [
    "def get_accuracy(matrix1, matrix2, testmatrix):  \n",
    "    error = 0\n",
    "    expect = testmatrix[1]\n",
    "    length = len(testmatrix[0])\n",
    "\n",
    "    for i in range(0, len(testmatrix[0])):\n",
    "        result = prediction(matrix1, matrix2, testmatrix[0][i])\n",
    "        if (result != expect):\n",
    "            error = error + 1  \n",
    "    return (error / length)"
   ]
  },
  {
   "cell_type": "markdown",
   "metadata": {},
   "source": [
    "Jetzt schauen wir uns mal das Ergebnis an."
   ]
  },
  {
   "cell_type": "code",
   "execution_count": 51,
   "metadata": {},
   "outputs": [
    {
     "name": "stderr",
     "output_type": "stream",
     "text": [
      "/Users/hongzhu/anaconda3/lib/python3.6/site-packages/numpy/linalg/linalg.py:1874: RuntimeWarning: overflow encountered in det\n",
      "  r = _umath_linalg.det(a, signature=signature)\n"
     ]
    },
    {
     "name": "stdout",
     "output_type": "stream",
     "text": [
      "0.0\n"
     ]
    }
   ],
   "source": [
    "print(get_accuracy([t5, 5], [t3, 3], [t5, 5]))"
   ]
  }
 ],
 "metadata": {
  "kernelspec": {
   "display_name": "Python 3",
   "language": "python",
   "name": "python3"
  },
  "language_info": {
   "codemirror_mode": {
    "name": "ipython",
    "version": 3
   },
   "file_extension": ".py",
   "mimetype": "text/x-python",
   "name": "python",
   "nbconvert_exporter": "python",
   "pygments_lexer": "ipython3",
   "version": "3.6.4"
  }
 },
 "nbformat": 4,
 "nbformat_minor": 2
}
