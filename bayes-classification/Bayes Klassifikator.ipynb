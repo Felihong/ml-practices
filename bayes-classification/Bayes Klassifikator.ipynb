{
 "cells": [
  {
   "cell_type": "markdown",
   "metadata": {},
   "source": [
    "Bayes(Gauß) Klassifikator ist ein Klassifikator, der aus dem Satz von Bayes hergeleitet ist, er ordnet jedes Objekt der Klasse zu, zu der es mit der größten Wahrscheinlichkeit gehört. Häufig wird der Bayes-Klassifikator auch zur Beurteilung anderer Klassifikatoren verwendet."
   ]
  },
  {
   "cell_type": "markdown",
   "metadata": {},
   "source": [
    "Wir benutzen die Datenpunkte der Ziffern aus dem Datensatz ”Digits“. Und implementieren sechs binäre Klassifikatoren, die jeweils zwei Klassen voneinander unterscheiden können mittels dem Gauß-Klassifikator.\n",
    "\n",
    "(Quelle: https://web.stanford.edu/~hastie/ElemStatLearn/)"
   ]
  },
  {
   "cell_type": "code",
   "execution_count": 1,
   "metadata": {},
   "outputs": [],
   "source": [
    "import pandas as pd\n",
    "import numpy as np\n",
    "\n",
    "def file_get_contents(filename):\n",
    "    return np.genfromtxt(filename, delimiter=',')"
   ]
  },
  {
   "cell_type": "markdown",
   "metadata": {},
   "source": [
    "Laden Training Daten und Test Daten."
   ]
  },
  {
   "cell_type": "code",
   "execution_count": 3,
   "metadata": {},
   "outputs": [],
   "source": [
    "t3, t5 = file_get_contents('train.3'), file_get_contents('train.5')\n",
    "t7, t8 = file_get_contents('train.7'), file_get_contents('train.8')"
   ]
  },
  {
   "cell_type": "code",
   "execution_count": 5,
   "metadata": {},
   "outputs": [
    {
     "name": "stdout",
     "output_type": "stream",
     "text": [
      "[[-1.    -1.    -1.    ... -0.671 -0.828 -1.   ]\n",
      " [-1.    -1.    -1.    ... -1.    -1.    -1.   ]\n",
      " [-1.    -1.    -1.    ... -1.    -1.    -1.   ]\n",
      " ...\n",
      " [-1.    -1.    -1.    ... -1.    -1.    -1.   ]\n",
      " [-1.    -1.    -1.    ... -1.    -1.    -1.   ]\n",
      " [-1.    -1.    -1.    ... -1.    -1.    -1.   ]]\n"
     ]
    }
   ],
   "source": [
    "print(t5)"
   ]
  },
  {
   "cell_type": "markdown",
   "metadata": {},
   "source": [
    "Die Idee für Klassifizieren: berechnen wir für jede Klasse den Durchschnittsvektor und die Kovarianzmatrix, berechnen dann (Durchschnittsvektor / Kovarianzmatrix), damit wir die Wahrscheinlichkeit von jede Klassen bekommen.\n",
    "Vorhersagen: wählen die Klasse mit höchster Wahrscheinlichkeit als Vorhersage.\n",
    "\n",
    "Dafür brauchen wir Kovarianzmatrix und Durchschnittsvektor (diameter)."
   ]
  },
  {
   "cell_type": "code",
   "execution_count": 6,
   "metadata": {},
   "outputs": [],
   "source": [
    "def diameter(images):      \n",
    "    result = np.zeros((len(images[0])), dtype=np.float)\n",
    "\n",
    "    for pixel in range(0, len(images[0])):  # bekommen an jedem Index von allen Sample die durchschnittliche Werte.\n",
    "        sum = 0\n",
    "\n",
    "        for image in range(0, len(images)):\n",
    "            sum += images[image][pixel]\n",
    "\n",
    "        result[pixel] = (sum / len(images))\n",
    "\n",
    "    return result\n",
    "\n",
    "\n",
    "def mycovariance(matrix):    # berechne die Kovarianzmatrix von unserer Trainingklasse\n",
    "    middlevec = diameter(matrix)\n",
    "    length = len(matrix)\n",
    "    matrix1 = np.transpose(np.subtract(matrix, middlevec))\n",
    "    matrix2 = np.transpose(matrix1)\n",
    "    matrix = np.dot(matrix1, matrix2)\n",
    "    return np.divide(matrix, length-1)"
   ]
  },
  {
   "cell_type": "markdown",
   "metadata": {},
   "source": [
    "Jetzt berechnen wir die Wahrscheinlichkeit von jeder Klasse mit hilfe von Normalverteilung Berechnung."
   ]
  },
  {
   "cell_type": "code",
   "execution_count": 10,
   "metadata": {},
   "outputs": [],
   "source": [
    "def get_it_invertible(matrix):  # erzeuge einen invertierbaren Matrix\n",
    "    a = 0.1\n",
    "    id = np.identity(len(matrix))\n",
    "    deter = np.linalg.det(matrix)\n",
    "\n",
    "    while (deter == 0):    # wenn die Determinante 0 ist, gibt's keinen Inverse Matrix\n",
    "        matrix = np.add(matrix, np.dot(a, id))\n",
    "        deter = np.linalg.det(matrix)\n",
    "    return matrix\n",
    "\n",
    "\n",
    "def get_gauss(matrix, test):  \n",
    "    length = len(test)\n",
    "    sigma = mycovariance(matrix)\n",
    "    sigmaInverse = np.linalg.inv(get_it_invertible(sigma)) # muss garantieren, das einen Inverse Matrix existiert\n",
    "    pi = np.pi\n",
    "    determinante = np.linalg.det(get_it_invertible(sigma))\n",
    "    a = np.sqrt(pi * length * determinante)\n",
    "    coefficient = 1 / a\n",
    "\n",
    "    meanVector = diameter(matrix)\n",
    "    sub = np.subtract(test, meanVector)\n",
    "    exponent1 = np.dot(np.transpose(sub), sigmaInverse)\n",
    "    exponent2 = np.matrix(np.dot(exponent1, sub))\n",
    "    exponent = np.exp(np.dot(-0.5, exponent2)) # schrittweise durchführen laut der Formel\n",
    "    return np.dot(coefficient, exponent)"
   ]
  },
  {
   "cell_type": "code",
   "execution_count": 11,
   "metadata": {},
   "outputs": [],
   "source": [
    "def prediction(matrix1, matrix2, test):\n",
    "    gauss1 = get_gauss(matrix1[0], test)\n",
    "    gauss2 = get_gauss(matrix2[0], test)\n",
    "\n",
    "    if (np.greater(gauss1, gauss2)): \n",
    "        return matrix1[1]\n",
    "    else: return matrix2[1]"
   ]
  },
  {
   "cell_type": "markdown",
   "metadata": {},
   "source": [
    "Schauen wir uns jetzt mal die Error Rate an."
   ]
  },
  {
   "cell_type": "code",
   "execution_count": 13,
   "metadata": {},
   "outputs": [
    {
     "name": "stdout",
     "output_type": "stream",
     "text": [
      "Error rate zwischen 3 und 5 ist 0.303951367781155 %\n",
      "done\n",
      "Error rate zwischen 3 und 7 ist 0.15503875968992248 %\n",
      "done\n"
     ]
    }
   ],
   "source": [
    "def prediction_rate(matrix1, matrix2, test):\n",
    "    length = len(test[0])\n",
    "    error = 0\n",
    "    for i in range (0, length):\n",
    "        result = prediction(matrix1, matrix2, test[0][i])\n",
    "        if (result != test[1]):\n",
    "            error = error + 1    \n",
    "    print('Error rate zwischen', matrix1[1], 'und', matrix2[1], 'ist', (error/length)*100 ,'%')\n",
    "    return 'done'\n",
    "\n",
    "print(prediction_rate([t3, 3], [t5, 5], [t3, 3]))\n",
    "print(prediction_rate([t3, 3], [t7, 7], [t7, 7]))"
   ]
  }
 ],
 "metadata": {
  "kernelspec": {
   "display_name": "Python 3",
   "language": "python",
   "name": "python3"
  },
  "language_info": {
   "codemirror_mode": {
    "name": "ipython",
    "version": 3
   },
   "file_extension": ".py",
   "mimetype": "text/x-python",
   "name": "python",
   "nbconvert_exporter": "python",
   "pygments_lexer": "ipython3",
   "version": "3.6.4"
  }
 },
 "nbformat": 4,
 "nbformat_minor": 2
}
