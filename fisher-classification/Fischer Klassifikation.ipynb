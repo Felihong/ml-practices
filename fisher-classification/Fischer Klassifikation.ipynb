{
 "cells": [
  {
   "cell_type": "markdown",
   "metadata": {},
   "source": [
    "Spam-Datensatz in CSV-Datei,die letzte Spalte gibt an, ob die entsprechende E-Mail als Spam angesehen wird. Wir teilen den Datensatz in 80% Trainingsdaten und 20% Testdaten ein.\n",
    "Es wird einen binären Klassifikator mittels Fischer-Diskriminante implementiert, und die Klassifikationsgenauigkeit als Ergebnis (output) gegeben."
   ]
  },
  {
   "cell_type": "code",
   "execution_count": 20,
   "metadata": {},
   "outputs": [],
   "source": [
    "import numpy as np\n",
    "\n",
    "def file_get_contents(filename):\n",
    "    return np.genfromtxt(filename, delimiter=',')\n",
    "\n",
    "data = file_get_contents('resources/spambase.data')"
   ]
  },
  {
   "cell_type": "markdown",
   "metadata": {},
   "source": [
    "Just take a look of the data."
   ]
  },
  {
   "cell_type": "code",
   "execution_count": 21,
   "metadata": {
    "scrolled": true
   },
   "outputs": [
    {
     "name": "stdout",
     "output_type": "stream",
     "text": [
      "[[0.000e+00 6.400e-01 6.400e-01 ... 6.100e+01 2.780e+02 1.000e+00]\n",
      " [2.100e-01 2.800e-01 5.000e-01 ... 1.010e+02 1.028e+03 1.000e+00]\n",
      " [6.000e-02 0.000e+00 7.100e-01 ... 4.850e+02 2.259e+03 1.000e+00]\n",
      " ...\n",
      " [0.000e+00 4.300e-01 4.300e-01 ... 6.100e+01 2.220e+02 1.000e+00]\n",
      " [0.000e+00 0.000e+00 0.000e+00 ... 1.700e+01 1.910e+02 1.000e+00]\n",
      " [1.240e+00 4.100e-01 1.240e+00 ... 1.900e+01 1.140e+02 1.000e+00]]\n"
     ]
    }
   ],
   "source": [
    "print(data[:100])"
   ]
  },
  {
   "cell_type": "markdown",
   "metadata": {},
   "source": [
    "Wir teilen die Daten in 80% Trainingdaten und 20% Testdaten ein."
   ]
  },
  {
   "cell_type": "code",
   "execution_count": 22,
   "metadata": {},
   "outputs": [
    {
     "name": "stdout",
     "output_type": "stream",
     "text": [
      "(array([[0.000e+00, 6.400e-01, 6.400e-01, ..., 6.100e+01, 2.780e+02,\n",
      "        1.000e+00],\n",
      "       [2.100e-01, 2.800e-01, 5.000e-01, ..., 1.010e+02, 1.028e+03,\n",
      "        1.000e+00],\n",
      "       [6.000e-02, 0.000e+00, 7.100e-01, ..., 4.850e+02, 2.259e+03,\n",
      "        1.000e+00],\n",
      "       ...,\n",
      "       [0.000e+00, 0.000e+00, 7.700e-01, ..., 6.200e+01, 2.580e+02,\n",
      "        1.000e+00],\n",
      "       [0.000e+00, 0.000e+00, 0.000e+00, ..., 6.600e+01, 1.010e+02,\n",
      "        1.000e+00],\n",
      "       [0.000e+00, 3.100e-01, 4.200e-01, ..., 3.180e+02, 1.003e+03,\n",
      "        1.000e+00]]), array([[0.000e+00, 0.000e+00, 0.000e+00, ..., 5.000e+00, 5.902e+03,\n",
      "        0.000e+00],\n",
      "       [0.000e+00, 0.000e+00, 0.000e+00, ..., 2.000e+00, 2.600e+01,\n",
      "        0.000e+00],\n",
      "       [0.000e+00, 0.000e+00, 0.000e+00, ..., 1.000e+00, 3.000e+00,\n",
      "        0.000e+00],\n",
      "       ...,\n",
      "       [0.000e+00, 0.000e+00, 0.000e+00, ..., 3.300e+01, 3.980e+02,\n",
      "        0.000e+00],\n",
      "       [0.000e+00, 0.000e+00, 0.000e+00, ..., 1.000e+00, 3.000e+00,\n",
      "        0.000e+00],\n",
      "       [0.000e+00, 0.000e+00, 0.000e+00, ..., 1.000e+00, 4.000e+00,\n",
      "        0.000e+00]]))\n"
     ]
    }
   ],
   "source": [
    "def extract_training(data):\n",
    "    length = int(0.8 * len(data))\n",
    "    return data[:length][:1813], data[:length][1813:]  \n",
    "\n",
    "def extract_test(data):\n",
    "    test = np.copy(data)\n",
    "    np.random.shuffle(test)  \n",
    "    length = int(0.2 * len(test)) \n",
    "    return test[:length]\n",
    "\n",
    "print(extract_training(data)[:100])"
   ]
  },
  {
   "cell_type": "markdown",
   "metadata": {},
   "source": [
    "Dann bekommen wir unsere Traingdaten und Testdaten. Teilen wir noch die Traingdaten in zwei Klassen: spam und non-spam, um zu benuzten fürs Lernen."
   ]
  },
  {
   "cell_type": "code",
   "execution_count": 23,
   "metadata": {},
   "outputs": [],
   "source": [
    "training = extract_training(data)  # ist ein Tupel\n",
    "test = extract_test(data)\n",
    "\n",
    "def spam_class(data):\n",
    "    return extract_training(data)[0]\n",
    "\n",
    "def non_spam_class(data):\n",
    "    return extract_training(data)[1]"
   ]
  },
  {
   "cell_type": "markdown",
   "metadata": {},
   "source": [
    "Ein Paar Schwerpunkte sind:\n",
    "1, Matrix invertierbar zu umwandeln, um Inverse Matrix zu bekommen.\n",
    "2, Kovarianz Matrix rechnen.\n",
    "3, Mittelpunkte von jeder Klasse rechnen."
   ]
  },
  {
   "cell_type": "code",
   "execution_count": 24,
   "metadata": {},
   "outputs": [],
   "source": [
    "def get_it_invertible(matrix): # erzeuge einen invertierbaren Matrix\n",
    "    a = 0.1\n",
    "    id = np.identity(len(matrix))\n",
    "    deter = np.linalg.det(matrix)\n",
    "\n",
    "    while (deter == 0): # wenn die Determinante 0 ist, gibt's keinen Inverse Matrix\n",
    "        matrix = np.add(matrix, np.dot(a, id))\n",
    "        deter = np.linalg.det(matrix)\n",
    "    return matrix\n",
    "\n",
    "\n",
    "def mycovariance(matrix): # berechne die Kovarianzmatrix von unserer Trainingklasse\n",
    "    middlevec = diameter(matrix)\n",
    "    length = len(matrix)\n",
    "    matrix1 = np.transpose(np.subtract(matrix, middlevec))\n",
    "    matrix2 = np.transpose(matrix1)\n",
    "    matrix = np.dot(matrix1, matrix2)\n",
    "    return np.divide(matrix, length-1)\n",
    "\n",
    "\n",
    "def diameter(images): # hier wird die Mittelvektor vom Matrix berechnet\n",
    "    result = np.zeros((len(images[0])), dtype=np.float)\n",
    "\n",
    "    for pixel in range(0, len(images[0])): # kriegen an jedem Index von allen Sample die durchschnittliche Werte.\n",
    "        sum = 0\n",
    "\n",
    "        for image in range(0, len(images)):\n",
    "            sum += images[image][pixel]\n",
    "\n",
    "        result[pixel] = (sum / len(images))\n",
    "\n",
    "    return result"
   ]
  },
  {
   "cell_type": "markdown",
   "metadata": {},
   "source": [
    "Das Hauptsache bei Fischer-Diskreminante ist die geeignete Projektionsrichtung zu finden. \n",
    "Mit \"get_projection\" Funktion können wir die projektion Funktion \"f(x) = Wt*x + W0\" rechnen, \n",
    "Wt ist die inverse Matrix von Projektion Koeffiziente, W0 ist eine Konstante, hier suchen wir so eine, dass mit der die Schätzung Richtigkeit vergrößert."
   ]
  },
  {
   "cell_type": "code",
   "execution_count": 25,
   "metadata": {},
   "outputs": [],
   "source": [
    "def projection_linear(data):    # hier ist unseres Linear Koeffiziente W\n",
    "    covarianceSpam = mycovariance(spam_class(data))\n",
    "    covarianceNonSpam = mycovariance(non_spam_class(data))\n",
    "    covarianceSum = get_it_invertible(np.add(covarianceSpam, covarianceNonSpam))\n",
    "    inverseSum = np.linalg.inv(covarianceSum)\n",
    "\n",
    "    middleSpam = diameter(spam_class(data))\n",
    "    middleNonSpam = diameter(non_spam_class(data))\n",
    "    middleDiffer = np.subtract(middleSpam, middleNonSpam)\n",
    "\n",
    "    return np.dot(inverseSum, middleDiffer)\n",
    "\n",
    "def get_projection(data, testsample):\n",
    "    spam = spam_class(data)\n",
    "    middleSpam = diameter(spam)\n",
    "    nonSpam = non_spam_class(data)\n",
    "    middleNonspam = diameter(nonSpam)\n",
    "\n",
    "    w1 = np.matrix(projection_linear(data))\n",
    "    w2 = np.transpose(w1)\n",
    "\n",
    "    a = np.dot(middleSpam, w2)\n",
    "    b = np.dot(middleNonspam, w2)\n",
    "    w0 = -0.95*(a + b)         # die Konstante W0, laut Erfahrung irgendwelche eingesetzt :(\n",
    "\n",
    "    return np.dot(testsample, w2) + w0  # entspricht zu y = Wt*x+W0, y stellt jede Projektion dar"
   ]
  },
  {
   "cell_type": "markdown",
   "metadata": {},
   "source": [
    "Mit \"check_spam\" Funktion wird geprüft, ob ein Testdatei laut gerechnete Projektion zur Spamklasse gehört."
   ]
  },
  {
   "cell_type": "code",
   "execution_count": 26,
   "metadata": {},
   "outputs": [
    {
     "name": "stdout",
     "output_type": "stream",
     "text": [
      "0\n",
      "1\n",
      "0\n",
      "0\n"
     ]
    }
   ],
   "source": [
    "def check_spam(testsample):\n",
    "    data = file_get_contents('resources/spambase.data')\n",
    "    result = get_projection(data, testsample)\n",
    "\n",
    "    if (result > 0):  # Projektion positiv entspricht mit Spamklasse\n",
    "        return 1\n",
    "    else:\n",
    "        return 0\n",
    "    \n",
    "print(check_spam(test[9]))\n",
    "print(check_spam(test[37]))\n",
    "print(check_spam(test[222]))\n",
    "print(check_spam(test[-1]))"
   ]
  },
  {
   "cell_type": "markdown",
   "metadata": {},
   "source": [
    "Jetzt schauen wir mal unseres Lernergebnis an."
   ]
  },
  {
   "cell_type": "code",
   "execution_count": 32,
   "metadata": {},
   "outputs": [
    {
     "name": "stdout",
     "output_type": "stream",
     "text": [
      "error rate is 7.282608695652174 %\n"
     ]
    }
   ],
   "source": [
    "def get_error_rate(data):\n",
    "    testData = extract_test(data)\n",
    "    error = 0\n",
    "\n",
    "    for i in range (0, len(testData)):\n",
    "        if (check_spam(testData[i]) != int(testData[i][57])):\n",
    "            error += 1\n",
    "    return (error / len(testData)) * 100\n",
    "\n",
    "print('error rate is', get_error_rate(data), '%')"
   ]
  }
 ],
 "metadata": {
  "kernelspec": {
   "display_name": "Python 3",
   "language": "python",
   "name": "python3"
  },
  "language_info": {
   "codemirror_mode": {
    "name": "ipython",
    "version": 3
   },
   "file_extension": ".py",
   "mimetype": "text/x-python",
   "name": "python",
   "nbconvert_exporter": "python",
   "pygments_lexer": "ipython3",
   "version": "3.6.4"
  }
 },
 "nbformat": 4,
 "nbformat_minor": 2
}
